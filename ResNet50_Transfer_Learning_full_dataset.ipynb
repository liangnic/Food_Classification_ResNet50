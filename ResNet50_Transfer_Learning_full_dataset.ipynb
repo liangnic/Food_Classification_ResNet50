{
 "nbformat": 4,
 "nbformat_minor": 0,
 "metadata": {
  "colab": {
   "provenance": [],
   "toc_visible": true,
   "gpuType": "T4"
  },
  "kernelspec": {
   "name": "python3",
   "display_name": "Python 3"
  },
  "language_info": {
   "name": "python"
  },
  "accelerator": "GPU"
 },
 "cells": [
  {
   "cell_type": "markdown",
   "source": [
    "# Import Packages & Dataset"
   ],
   "metadata": {
    "id": "7l5REpE2Ma32",
    "pycharm": {
     "name": "#%% md\n"
    }
   }
  },
  {
   "cell_type": "code",
   "execution_count": 1,
   "metadata": {
    "id": "NaTFQSJgMKOX",
    "pycharm": {
     "name": "#%%\n"
    }
   },
   "outputs": [
    {
     "name": "stderr",
     "output_type": "stream",
     "text": [
      "C:\\Users\\liangnic\\anaconda3\\envs\\Food_Classification\\lib\\site-packages\\h5py\\__init__.py:36: UserWarning: h5py is running against HDF5 1.12.2 when it was built against 1.12.1, this may cause problems\n",
      "  _warn((\"h5py is running against HDF5 {0} when it was built against {1}, \"\n"
     ]
    }
   ],
   "source": [
    "import os, time\n",
    "import numpy as np\n",
    "import pandas as pd\n",
    "import matplotlib.pyplot as plt\n",
    "%matplotlib inline\n",
    "\n",
    "from shutil import copy\n",
    "import random\n",
    "import collections\n",
    "from collections import defaultdict\n",
    "\n",
    "import tensorflow as tf\n",
    "from tensorflow import keras as k\n",
    "from tensorflow.keras import backend\n",
    "from tensorflow.keras.models import load_model\n",
    "from tensorflow.keras.utils import get_file\n",
    "from tensorflow.keras.models import Model,Sequential\n",
    "from tensorflow.keras.layers import Dense, Dropout, BatchNormalization\n",
    "from tensorflow.keras.layers import GlobalAveragePooling2D, Flatten\n",
    "\n",
    "from tensorflow.keras import regularizers\n",
    "from tensorflow.keras.optimizers import Adam, SGD\n",
    "from tensorflow.keras.regularizers import l2\n",
    "from tensorflow.keras.preprocessing.image import ImageDataGenerator\n",
    "from tensorflow.keras.applications.resnet50 import ResNet50\n",
    "\n",
    "from tensorflow.keras import callbacks\n",
    "from tensorflow.keras.callbacks import ModelCheckpoint, CSVLogger\n",
    "from tensorflow.keras.callbacks import TensorBoard, ReduceLROnPlateau, EarlyStopping"
   ]
  },
  {
   "cell_type": "code",
   "source": [
    "# GPU Testing\n",
    "device_name = tf.test.gpu_device_name()\n",
    "if device_name != '/device:GPU:0':\n",
    "  raise SystemError('GPU device not found')\n",
    "print('Found GPU at: {}'.format(device_name))"
   ],
   "metadata": {
    "colab": {
     "base_uri": "https://localhost:8080/"
    },
    "id": "oS2lNh4_M_O9",
    "outputId": "0f6dae5b-58eb-4e88-a24f-4ae60c6618e4",
    "pycharm": {
     "name": "#%%\n"
    }
   },
   "execution_count": 2,
   "outputs": [
    {
     "name": "stdout",
     "output_type": "stream",
     "text": [
      "Found GPU at: /device:GPU:0\n"
     ]
    }
   ]
  },
  {
   "cell_type": "code",
   "execution_count": 18,
   "outputs": [
    {
     "name": "stdout",
     "output_type": "stream",
     "text": [
      "1 Physical GPU, 1 Logical GPUs\n"
     ]
    }
   ],
   "source": [
    "gpus = tf.config.list_physical_devices('GPU')\n",
    "logical_gpus = tf.config.list_logical_devices('GPU')\n",
    "print(len(gpus), \"Physical GPU,\", len(logical_gpus), \"Logical GPUs\")"
   ],
   "metadata": {
    "collapsed": false,
    "pycharm": {
     "name": "#%%\n"
    }
   }
  },
  {
   "cell_type": "markdown",
   "source": [
    "Use to check GPU Memory and rest the memory"
   ],
   "metadata": {
    "collapsed": false,
    "pycharm": {
     "name": "#%% md\n"
    }
   }
  },
  {
   "cell_type": "code",
   "execution_count": 17,
   "outputs": [],
   "source": [
    "from tensorflow.keras.backend import clear_session\n",
    "clear_session()"
   ],
   "metadata": {
    "collapsed": false,
    "pycharm": {
     "name": "#%%\n"
    }
   }
  },
  {
   "cell_type": "code",
   "execution_count": 18,
   "outputs": [
    {
     "name": "stdout",
     "output_type": "stream",
     "text": [
      "Thu Sep 21 13:54:24 2023       \n",
      "+---------------------------------------------------------------------------------------+\n",
      "| NVIDIA-SMI 536.23                 Driver Version: 536.23       CUDA Version: 12.2     |\n",
      "|-----------------------------------------+----------------------+----------------------+\n",
      "| GPU  Name                     TCC/WDDM  | Bus-Id        Disp.A | Volatile Uncorr. ECC |\n",
      "| Fan  Temp   Perf          Pwr:Usage/Cap |         Memory-Usage | GPU-Util  Compute M. |\n",
      "|                                         |                      |               MIG M. |\n",
      "|=========================================+======================+======================|\n",
      "|   0  NVIDIA GeForce RTX 3070 Ti   WDDM  | 00000000:01:00.0  On |                  N/A |\n",
      "|  0%   40C    P8              15W / 310W |   7411MiB /  8192MiB |     12%      Default |\n",
      "|                                         |                      |                  N/A |\n",
      "+-----------------------------------------+----------------------+----------------------+\n",
      "                                                                                         \n",
      "+---------------------------------------------------------------------------------------+\n",
      "| Processes:                                                                            |\n",
      "|  GPU   GI   CI        PID   Type   Process name                            GPU Memory |\n",
      "|        ID   ID                                                             Usage      |\n",
      "|=======================================================================================|\n",
      "|    0   N/A  N/A      2228    C+G   ...ins\\PyCharm\\jbr\\bin\\jcef_helper.exe    N/A      |\n",
      "|    0   N/A  N/A      2232    C+G   ... Synapse 3 Host\\Razer Synapse 3.exe    N/A      |\n",
      "|    0   N/A  N/A      8864    C+G   ...CBS_cw5n1h2txyewy\\TextInputHost.exe    N/A      |\n",
      "|    0   N/A  N/A     12124    C+G   ...1\\extracted\\runtime\\WeChatAppEx.exe    N/A      |\n",
      "|    0   N/A  N/A     13008    C+G   ...on\\wallpaper_engine\\wallpaper32.exe    N/A      |\n",
      "|    0   N/A  N/A     13572    C+G   ...les\\Microsoft OneDrive\\OneDrive.exe    N/A      |\n",
      "|    0   N/A  N/A     14536      C   ...envs\\Food_Classification\\python.exe    N/A      |\n",
      "|    0   N/A  N/A     15200    C+G   C:\\Windows\\explorer.exe                   N/A      |\n",
      "|    0   N/A  N/A     15628    C+G   ...2txyewy\\StartMenuExperienceHost.exe    N/A      |\n",
      "|    0   N/A  N/A     17068    C+G   ....Search_cw5n1h2txyewy\\SearchApp.exe    N/A      |\n",
      "|    0   N/A  N/A     17856    C+G   ...al\\Discord\\app-1.0.9018\\Discord.exe    N/A      |\n",
      "|    0   N/A  N/A     19216    C+G   ...oogle\\Chrome\\Application\\chrome.exe    N/A      |\n",
      "+---------------------------------------------------------------------------------------+\n"
     ]
    }
   ],
   "source": [
    "!nvidia-smi"
   ],
   "metadata": {
    "collapsed": false,
    "pycharm": {
     "name": "#%%\n"
    }
   }
  },
  {
   "cell_type": "code",
   "execution_count": 3,
   "outputs": [
    {
     "name": "stdout",
     "output_type": "stream",
     "text": [
      "C:\\Users\\liangnic\\PycharmProjects\\Food_Classification\n"
     ]
    }
   ],
   "source": [
    "print(os.getcwd())"
   ],
   "metadata": {
    "collapsed": false,
    "pycharm": {
     "name": "#%%\n"
    }
   }
  },
  {
   "cell_type": "code",
   "source": [
    "# File Saving PATH\n",
    "PATH = 'ResNet50.h5'"
   ],
   "metadata": {
    "id": "ZT3_hRe0M9zT",
    "pycharm": {
     "name": "#%%\n"
    }
   },
   "execution_count": 32,
   "outputs": []
  },
  {
   "cell_type": "markdown",
   "source": [
    "## Download Dataset"
   ],
   "metadata": {
    "id": "JvNx7CvgNWDn",
    "pycharm": {
     "name": "#%% md\n"
    }
   }
  },
  {
   "cell_type": "markdown",
   "source": [
    "You don't have to run the following code if its already downloaded"
   ],
   "metadata": {
    "collapsed": false,
    "pycharm": {
     "name": "#%% md\n"
    }
   }
  },
  {
   "cell_type": "code",
   "source": [
    "def get_data():\n",
    "  if \"food-101\" in os.listdir():\n",
    "    print(\"Dataset already exists\")\n",
    "  else:\n",
    "    get_file(\n",
    "    'food-101.tar.gz',\n",
    "    'http://data.vision.ee.ethz.ch/cvl/food-101.tar.gz',\n",
    "    cache_subdir=None,\n",
    "    extract=True,\n",
    "    archive_format='tar',\n",
    "    cache_dir=None\n",
    "    )\n",
    "    print(\"Dataset downloaded and extracted successfully!\")\n",
    "\n",
    "def prepare_data(filepath, src, dest):\n",
    "  classes_images = defaultdict(list)\n",
    "  with open(filepath, 'r') as txt:\n",
    "      paths = [read.strip() for read in txt.readlines()]\n",
    "      for p in paths:\n",
    "        food = p.split('/')\n",
    "        classes_images[food[0]].append(food[1] + '.jpg')\n",
    "\n",
    "  for food in classes_images.keys():\n",
    "    #print(\"\\nCopying images into \",food)\n",
    "    if not os.path.exists(os.path.join(dest,food)):\n",
    "      os.makedirs(os.path.join(dest,food))\n",
    "    for i in classes_images[food]:\n",
    "      copy(os.path.join(src,food,i), os.path.join(dest,food,i))\n",
    "  print(\"Copying Done!\")\n",
    "\n",
    "\n",
    "get_data()\n",
    "\n",
    "print(\"Creating train data...\")\n",
    "prepare_data('food-101/meta/train.txt', 'food-101/images', 'food-101/train')\n",
    "print(\"Creating test data...\")\n",
    "prepare_data('food-101/meta/test.txt', 'food-101/images', 'food-101/test')"
   ],
   "metadata": {
    "id": "YAqpkdv_NZRi",
    "pycharm": {
     "name": "#%%\n"
    }
   },
   "execution_count": 26,
   "outputs": []
  },
  {
   "cell_type": "markdown",
   "source": [
    "# Data Preprocessing"
   ],
   "metadata": {
    "id": "14pEE-N0Mre4",
    "pycharm": {
     "name": "#%% md\n"
    }
   }
  },
  {
   "cell_type": "code",
   "execution_count": 4,
   "outputs": [],
   "source": [
    "train_dir = 'food-101/train'\n",
    "test_dir = 'food-101/test'\n",
    "food_list = sorted(os.listdir('food-101/images'))"
   ],
   "metadata": {
    "collapsed": false,
    "pycharm": {
     "name": "#%%\n"
    }
   }
  },
  {
   "cell_type": "code",
   "source": [
    "N_CLASS = 101\n",
    "IMAGE_SHAPE = (224, 224)\n",
    "BATCH_SIZE = 64\n",
    "EPOCHS = 25"
   ],
   "metadata": {
    "id": "TFr_GkYSPBpw",
    "pycharm": {
     "name": "#%%\n"
    }
   },
   "execution_count": 5,
   "outputs": []
  },
  {
   "cell_type": "code",
   "source": [
    "def dataset_preprocessing(train_dir, test_dir):\n",
    "\n",
    "  train_datagen = ImageDataGenerator(\n",
    "          rotation_range=40,\n",
    "          width_shift_range=0.2,\n",
    "          height_shift_range=0.2,\n",
    "          rescale=1. / 255,\n",
    "          shear_range=0.2,\n",
    "          zoom_range=0.2,\n",
    "          horizontal_flip=True,\n",
    "          fill_mode='nearest')\n",
    "\n",
    "  test_datagen = ImageDataGenerator(rescale=1. / 255)\n",
    "\n",
    "  train_generator = train_datagen.flow_from_directory(train_dir,\n",
    "                                                    target_size=IMAGE_SHAPE,\n",
    "                                                    batch_size=BATCH_SIZE,\n",
    "                                                    class_mode='categorical',\n",
    "                                                    shuffle=True)\n",
    "\n",
    "  validation_generator = test_datagen.flow_from_directory(test_dir,\n",
    "                                                        target_size=IMAGE_SHAPE,\n",
    "                                                        batch_size=BATCH_SIZE,\n",
    "                                                        class_mode='categorical',\n",
    "                                                        shuffle=True)\n",
    "\n",
    "  return train_generator, validation_generator"
   ],
   "metadata": {
    "id": "sPI6aTunPAQa",
    "pycharm": {
     "name": "#%%\n"
    }
   },
   "execution_count": 6,
   "outputs": []
  },
  {
   "cell_type": "code",
   "source": [
    "train_generator, validation_generator = dataset_preprocessing(train_dir, test_dir)"
   ],
   "metadata": {
    "id": "Tcj-SMT4Qmcx",
    "pycharm": {
     "name": "#%%\n"
    }
   },
   "execution_count": 7,
   "outputs": [
    {
     "name": "stdout",
     "output_type": "stream",
     "text": [
      "Found 75750 images belonging to 101 classes.\n",
      "Found 25250 images belonging to 101 classes.\n"
     ]
    }
   ]
  },
  {
   "cell_type": "markdown",
   "source": [
    "# Model Training"
   ],
   "metadata": {
    "id": "K6vbvMM8MuMF",
    "pycharm": {
     "name": "#%% md\n"
    }
   }
  },
  {
   "cell_type": "markdown",
   "source": [
    "## First download the pre-trained model"
   ],
   "metadata": {
    "id": "R3UmtcIyQ4V_",
    "pycharm": {
     "name": "#%% md\n"
    }
   }
  },
  {
   "cell_type": "code",
   "source": [
    "resnet50 = ResNet50(weights='imagenet', include_top=False)"
   ],
   "metadata": {
    "colab": {
     "base_uri": "https://localhost:8080/"
    },
    "id": "yp6xsTJVQ3Oe",
    "outputId": "b80f1e6f-aed5-4651-dd5a-1ee54e367b32",
    "pycharm": {
     "name": "#%%\n"
    }
   },
   "execution_count": 19,
   "outputs": []
  },
  {
   "cell_type": "code",
   "source": [
    "model = Sequential()\n",
    "model.add(resnet50)\n",
    "model.add(GlobalAveragePooling2D())\n",
    "model.add(Dense(256,activation='relu'))\n",
    "model.add(Dropout(0.3))\n",
    "model.add(BatchNormalization())\n",
    "model.add(Dense(N_CLASS, activation='softmax'))"
   ],
   "metadata": {
    "id": "0bFZsQLjRB0A",
    "pycharm": {
     "name": "#%%\n"
    }
   },
   "execution_count": 20,
   "outputs": []
  },
  {
   "cell_type": "code",
   "source": [
    "model.summary()"
   ],
   "metadata": {
    "colab": {
     "base_uri": "https://localhost:8080/"
    },
    "id": "1YN9tSOmSWtr",
    "outputId": "5ddbef4a-c165-44cb-f757-64c41ca603c2",
    "pycharm": {
     "name": "#%%\n"
    }
   },
   "execution_count": 21,
   "outputs": [
    {
     "name": "stdout",
     "output_type": "stream",
     "text": [
      "Model: \"sequential\"\n",
      "_________________________________________________________________\n",
      "Layer (type)                 Output Shape              Param #   \n",
      "=================================================================\n",
      "resnet50 (Functional)        (None, None, None, 2048)  23587712  \n",
      "_________________________________________________________________\n",
      "global_average_pooling2d (Gl (None, 2048)              0         \n",
      "_________________________________________________________________\n",
      "dense (Dense)                (None, 256)               524544    \n",
      "_________________________________________________________________\n",
      "dropout (Dropout)            (None, 256)               0         \n",
      "_________________________________________________________________\n",
      "batch_normalization (BatchNo (None, 256)               1024      \n",
      "_________________________________________________________________\n",
      "dense_1 (Dense)              (None, 101)               25957     \n",
      "=================================================================\n",
      "Total params: 24,139,237\n",
      "Trainable params: 24,085,605\n",
      "Non-trainable params: 53,632\n",
      "_________________________________________________________________\n"
     ]
    }
   ]
  },
  {
   "cell_type": "code",
   "source": [
    "len(model.trainable_variables)"
   ],
   "metadata": {
    "colab": {
     "base_uri": "https://localhost:8080/"
    },
    "id": "94c6IM9RS6HB",
    "outputId": "08a069b0-6299-439b-c5ef-1541ba13eb84",
    "pycharm": {
     "name": "#%%\n"
    }
   },
   "execution_count": 22,
   "outputs": [
    {
     "data": {
      "text/plain": "218"
     },
     "execution_count": 22,
     "metadata": {},
     "output_type": "execute_result"
    }
   ]
  },
  {
   "cell_type": "markdown",
   "source": [
    "## Transfer Learning\n",
    "\n",
    "The layer numbers:}\n",
    "- layer3: 39:80\n",
    "- layer4: 81:142\n",
    "- layer5: 143:-1"
   ],
   "metadata": {
    "collapsed": false,
    "pycharm": {
     "name": "#%% md\n"
    }
   }
  },
  {
   "cell_type": "code",
   "execution_count": 37,
   "outputs": [],
   "source": [
    "class LearningRateTracker(callbacks.Callback):\n",
    "    def on_epoch_end(self, epoch, logs=None):\n",
    "        optimizer = self.model.optimizer\n",
    "        _lr = backend.get_value(optimizer.lr)\n",
    "        print(f'\\nEpoch {epoch+1}: Learning rate is {_lr}.')\n",
    "\n",
    "callbacks_list = [callbacks.ModelCheckpoint(\n",
    "        filepath = \"ResNet50_retrained\",\n",
    "        monitor = 'val_loss',\n",
    "        save_best_only = True),\n",
    "        callbacks.ReduceLROnPlateau(\n",
    "            monitor='val_accuracy',\n",
    "            factor=0.1,\n",
    "            patience=2,\n",
    "            mode='auto',\n",
    "            min_delta=0.002,\n",
    "            min_lr=1e-8),\n",
    "        callbacks.EarlyStopping(\n",
    "            monitor='val_accuracy',\n",
    "            min_delta=0.001,\n",
    "            patience=4, # we wait more in training section\n",
    "            verbose=1,\n",
    "            mode='auto',\n",
    "            baseline=None),\n",
    "        LearningRateTracker()]"
   ],
   "metadata": {
    "collapsed": false,
    "pycharm": {
     "name": "#%%\n"
    }
   }
  },
  {
   "cell_type": "code",
   "execution_count": 13,
   "outputs": [],
   "source": [
    "# Code for drawing the output plot\n",
    "def draw_plot(acc, val_acc, loss, val_loss):\n",
    "\n",
    "  plt.figure(1, figsize = (15,8))\n",
    "\n",
    "  plt.subplot(221)\n",
    "  plt.plot(acc)\n",
    "  plt.plot(val_acc)\n",
    "  plt.title('model accuracy')\n",
    "  plt.ylabel('accuracy')\n",
    "  plt.xlabel('epoch')\n",
    "  plt.legend(['train', 'valid'])\n",
    "\n",
    "  plt.subplot(222)\n",
    "  plt.plot(loss)\n",
    "  plt.plot(val_loss)\n",
    "  plt.title('model loss')\n",
    "  plt.ylabel('loss')\n",
    "  plt.xlabel('epoch')\n",
    "  plt.legend(['train', 'valid'])\n",
    "\n",
    "  plt.show()"
   ],
   "metadata": {
    "collapsed": false,
    "pycharm": {
     "name": "#%%\n"
    }
   }
  },
  {
   "cell_type": "markdown",
   "source": [
    "### Unfreeze the Conv_4+5"
   ],
   "metadata": {
    "collapsed": false,
    "pycharm": {
     "name": "#%% md\n"
    }
   }
  },
  {
   "cell_type": "code",
   "execution_count": 23,
   "outputs": [],
   "source": [
    "resnet50.trainable = True\n",
    "for layer in resnet50.layers[:81]: #unfreezed the last layer conv_4+5\n",
    "  layer.trainable = False"
   ],
   "metadata": {
    "collapsed": false,
    "pycharm": {
     "name": "#%%\n"
    }
   }
  },
  {
   "cell_type": "code",
   "execution_count": 24,
   "outputs": [
    {
     "name": "stdout",
     "output_type": "stream",
     "text": [
      "122\n",
      "0 input_1 False\n",
      "1 conv1_pad False\n",
      "2 conv1_conv False\n",
      "3 conv1_bn False\n",
      "4 conv1_relu False\n",
      "5 pool1_pad False\n",
      "6 pool1_pool False\n",
      "7 conv2_block1_1_conv False\n",
      "8 conv2_block1_1_bn False\n",
      "9 conv2_block1_1_relu False\n",
      "10 conv2_block1_2_conv False\n",
      "11 conv2_block1_2_bn False\n",
      "12 conv2_block1_2_relu False\n",
      "13 conv2_block1_0_conv False\n",
      "14 conv2_block1_3_conv False\n",
      "15 conv2_block1_0_bn False\n",
      "16 conv2_block1_3_bn False\n",
      "17 conv2_block1_add False\n",
      "18 conv2_block1_out False\n",
      "19 conv2_block2_1_conv False\n",
      "20 conv2_block2_1_bn False\n",
      "21 conv2_block2_1_relu False\n",
      "22 conv2_block2_2_conv False\n",
      "23 conv2_block2_2_bn False\n",
      "24 conv2_block2_2_relu False\n",
      "25 conv2_block2_3_conv False\n",
      "26 conv2_block2_3_bn False\n",
      "27 conv2_block2_add False\n",
      "28 conv2_block2_out False\n",
      "29 conv2_block3_1_conv False\n",
      "30 conv2_block3_1_bn False\n",
      "31 conv2_block3_1_relu False\n",
      "32 conv2_block3_2_conv False\n",
      "33 conv2_block3_2_bn False\n",
      "34 conv2_block3_2_relu False\n",
      "35 conv2_block3_3_conv False\n",
      "36 conv2_block3_3_bn False\n",
      "37 conv2_block3_add False\n",
      "38 conv2_block3_out False\n",
      "39 conv3_block1_1_conv False\n",
      "40 conv3_block1_1_bn False\n",
      "41 conv3_block1_1_relu False\n",
      "42 conv3_block1_2_conv False\n",
      "43 conv3_block1_2_bn False\n",
      "44 conv3_block1_2_relu False\n",
      "45 conv3_block1_0_conv False\n",
      "46 conv3_block1_3_conv False\n",
      "47 conv3_block1_0_bn False\n",
      "48 conv3_block1_3_bn False\n",
      "49 conv3_block1_add False\n",
      "50 conv3_block1_out False\n",
      "51 conv3_block2_1_conv False\n",
      "52 conv3_block2_1_bn False\n",
      "53 conv3_block2_1_relu False\n",
      "54 conv3_block2_2_conv False\n",
      "55 conv3_block2_2_bn False\n",
      "56 conv3_block2_2_relu False\n",
      "57 conv3_block2_3_conv False\n",
      "58 conv3_block2_3_bn False\n",
      "59 conv3_block2_add False\n",
      "60 conv3_block2_out False\n",
      "61 conv3_block3_1_conv False\n",
      "62 conv3_block3_1_bn False\n",
      "63 conv3_block3_1_relu False\n",
      "64 conv3_block3_2_conv False\n",
      "65 conv3_block3_2_bn False\n",
      "66 conv3_block3_2_relu False\n",
      "67 conv3_block3_3_conv False\n",
      "68 conv3_block3_3_bn False\n",
      "69 conv3_block3_add False\n",
      "70 conv3_block3_out False\n",
      "71 conv3_block4_1_conv False\n",
      "72 conv3_block4_1_bn False\n",
      "73 conv3_block4_1_relu False\n",
      "74 conv3_block4_2_conv False\n",
      "75 conv3_block4_2_bn False\n",
      "76 conv3_block4_2_relu False\n",
      "77 conv3_block4_3_conv False\n",
      "78 conv3_block4_3_bn False\n",
      "79 conv3_block4_add False\n",
      "80 conv3_block4_out False\n",
      "81 conv4_block1_1_conv True\n",
      "82 conv4_block1_1_bn True\n",
      "83 conv4_block1_1_relu True\n",
      "84 conv4_block1_2_conv True\n",
      "85 conv4_block1_2_bn True\n",
      "86 conv4_block1_2_relu True\n",
      "87 conv4_block1_0_conv True\n",
      "88 conv4_block1_3_conv True\n",
      "89 conv4_block1_0_bn True\n",
      "90 conv4_block1_3_bn True\n",
      "91 conv4_block1_add True\n",
      "92 conv4_block1_out True\n",
      "93 conv4_block2_1_conv True\n",
      "94 conv4_block2_1_bn True\n",
      "95 conv4_block2_1_relu True\n",
      "96 conv4_block2_2_conv True\n",
      "97 conv4_block2_2_bn True\n",
      "98 conv4_block2_2_relu True\n",
      "99 conv4_block2_3_conv True\n",
      "100 conv4_block2_3_bn True\n",
      "101 conv4_block2_add True\n",
      "102 conv4_block2_out True\n",
      "103 conv4_block3_1_conv True\n",
      "104 conv4_block3_1_bn True\n",
      "105 conv4_block3_1_relu True\n",
      "106 conv4_block3_2_conv True\n",
      "107 conv4_block3_2_bn True\n",
      "108 conv4_block3_2_relu True\n",
      "109 conv4_block3_3_conv True\n",
      "110 conv4_block3_3_bn True\n",
      "111 conv4_block3_add True\n",
      "112 conv4_block3_out True\n",
      "113 conv4_block4_1_conv True\n",
      "114 conv4_block4_1_bn True\n",
      "115 conv4_block4_1_relu True\n",
      "116 conv4_block4_2_conv True\n",
      "117 conv4_block4_2_bn True\n",
      "118 conv4_block4_2_relu True\n",
      "119 conv4_block4_3_conv True\n",
      "120 conv4_block4_3_bn True\n",
      "121 conv4_block4_add True\n",
      "122 conv4_block4_out True\n",
      "123 conv4_block5_1_conv True\n",
      "124 conv4_block5_1_bn True\n",
      "125 conv4_block5_1_relu True\n",
      "126 conv4_block5_2_conv True\n",
      "127 conv4_block5_2_bn True\n",
      "128 conv4_block5_2_relu True\n",
      "129 conv4_block5_3_conv True\n",
      "130 conv4_block5_3_bn True\n",
      "131 conv4_block5_add True\n",
      "132 conv4_block5_out True\n",
      "133 conv4_block6_1_conv True\n",
      "134 conv4_block6_1_bn True\n",
      "135 conv4_block6_1_relu True\n",
      "136 conv4_block6_2_conv True\n",
      "137 conv4_block6_2_bn True\n",
      "138 conv4_block6_2_relu True\n",
      "139 conv4_block6_3_conv True\n",
      "140 conv4_block6_3_bn True\n",
      "141 conv4_block6_add True\n",
      "142 conv4_block6_out True\n",
      "143 conv5_block1_1_conv True\n",
      "144 conv5_block1_1_bn True\n",
      "145 conv5_block1_1_relu True\n",
      "146 conv5_block1_2_conv True\n",
      "147 conv5_block1_2_bn True\n",
      "148 conv5_block1_2_relu True\n",
      "149 conv5_block1_0_conv True\n",
      "150 conv5_block1_3_conv True\n",
      "151 conv5_block1_0_bn True\n",
      "152 conv5_block1_3_bn True\n",
      "153 conv5_block1_add True\n",
      "154 conv5_block1_out True\n",
      "155 conv5_block2_1_conv True\n",
      "156 conv5_block2_1_bn True\n",
      "157 conv5_block2_1_relu True\n",
      "158 conv5_block2_2_conv True\n",
      "159 conv5_block2_2_bn True\n",
      "160 conv5_block2_2_relu True\n",
      "161 conv5_block2_3_conv True\n",
      "162 conv5_block2_3_bn True\n",
      "163 conv5_block2_add True\n",
      "164 conv5_block2_out True\n",
      "165 conv5_block3_1_conv True\n",
      "166 conv5_block3_1_bn True\n",
      "167 conv5_block3_1_relu True\n",
      "168 conv5_block3_2_conv True\n",
      "169 conv5_block3_2_bn True\n",
      "170 conv5_block3_2_relu True\n",
      "171 conv5_block3_3_conv True\n",
      "172 conv5_block3_3_bn True\n",
      "173 conv5_block3_add True\n",
      "174 conv5_block3_out True\n"
     ]
    }
   ],
   "source": [
    "# check whether we unfreezed the correct layers\n",
    "print(len(model.trainable_variables))\n",
    "\n",
    "for i, layer in enumerate(resnet50.layers) :\n",
    "  print(i, layer.name,layer.trainable)"
   ],
   "metadata": {
    "collapsed": false,
    "pycharm": {
     "name": "#%%\n"
    }
   }
  },
  {
   "cell_type": "code",
   "execution_count": 26,
   "outputs": [
    {
     "name": "stdout",
     "output_type": "stream",
     "text": [
      "Epoch 1/25\n",
      "1184/1184 [==============================] - 602s 506ms/step - loss: 3.4308 - accuracy: 0.1930 - val_loss: 3.1775 - val_accuracy: 0.2305\n",
      "\n",
      "Epoch 1: Learning rate is 0.0100.\n",
      "Epoch 2/25\n",
      "1184/1184 [==============================] - 589s 497ms/step - loss: 3.4083 - accuracy: 0.1976 - val_loss: 3.4301 - val_accuracy: 0.1910\n",
      "\n",
      "Epoch 2: Learning rate is 0.0100.\n",
      "Epoch 3/25\n",
      "1184/1184 [==============================] - 576s 487ms/step - loss: 3.4037 - accuracy: 0.1973 - val_loss: 3.4942 - val_accuracy: 0.1847\n",
      "\n",
      "Epoch 3: Learning rate is 0.0010.\n",
      "Epoch 4/25\n",
      "1184/1184 [==============================] - 577s 487ms/step - loss: 3.3822 - accuracy: 0.2021 - val_loss: 3.1112 - val_accuracy: 0.2461\n",
      "\n",
      "Epoch 4: Learning rate is 0.0010.\n",
      "Epoch 5/25\n",
      "1184/1184 [==============================] - 577s 488ms/step - loss: 3.3780 - accuracy: 0.2040 - val_loss: 3.1101 - val_accuracy: 0.2493\n",
      "\n",
      "Epoch 5: Learning rate is 0.0010.\n",
      "Epoch 6/25\n",
      "1184/1184 [==============================] - 576s 486ms/step - loss: 3.3732 - accuracy: 0.2037 - val_loss: 3.0970 - val_accuracy: 0.2522\n",
      "\n",
      "Epoch 6: Learning rate is 0.0010.\n",
      "Epoch 7/25\n",
      "1184/1184 [==============================] - 577s 488ms/step - loss: 3.3728 - accuracy: 0.2042 - val_loss: 3.1465 - val_accuracy: 0.2417\n",
      "\n",
      "Epoch 7: Learning rate is 0.0010.\n",
      "Epoch 8/25\n",
      "1184/1184 [==============================] - 582s 491ms/step - loss: 3.3713 - accuracy: 0.2039 - val_loss: 3.1040 - val_accuracy: 0.2505\n",
      "\n",
      "Epoch 8: Learning rate is 0.0001.\n",
      "Epoch 9/25\n",
      "1184/1184 [==============================] - 591s 499ms/step - loss: 3.3756 - accuracy: 0.2041 - val_loss: 3.0967 - val_accuracy: 0.2509\n",
      "\n",
      "Epoch 9: Learning rate is 0.0001.\n",
      "Epoch 10/25\n",
      "1184/1184 [==============================] - 588s 496ms/step - loss: 3.3683 - accuracy: 0.2039 - val_loss: 3.0971 - val_accuracy: 0.2512\n",
      "\n",
      "Epoch 10: Learning rate is 0.0000.\n",
      "Epoch 00010: early stopping\n"
     ]
    }
   ],
   "source": [
    "model.compile(optimizer=SGD(learning_rate=0.01, momentum=0.9), loss='categorical_crossentropy', metrics=['accuracy'])\n",
    "history_conv4 = model.fit_generator(train_generator,\n",
    "                    validation_data=validation_generator,\n",
    "                    epochs=EPOCHS,\n",
    "                    verbose=1,\n",
    "                    callbacks = callbacks_list)"
   ],
   "metadata": {
    "collapsed": false,
    "pycharm": {
     "name": "#%%\n"
    }
   }
  },
  {
   "cell_type": "markdown",
   "source": [
    "let's get the output images"
   ],
   "metadata": {
    "collapsed": false,
    "pycharm": {
     "name": "#%% md\n"
    }
   }
  },
  {
   "cell_type": "code",
   "execution_count": 27,
   "outputs": [
    {
     "data": {
      "text/plain": "<Figure size 1500x800 with 2 Axes>",
      "image/png": "[encoded data removed]"
     },
     "metadata": {},
     "output_type": "display_data"
    }
   ],
   "source": [
    "acc = history_conv4.history['accuracy']\n",
    "val_acc = history_conv4.history['val_accuracy']\n",
    "loss = history_conv4.history['loss']\n",
    "val_loss = history_conv4.history['val_loss']\n",
    "\n",
    "draw_plot(acc, val_acc, loss, val_loss)"
   ],
   "metadata": {
    "collapsed": false,
    "pycharm": {
     "name": "#%%\n"
    }
   }
  },
  {
   "cell_type": "code",
   "execution_count": 28,
   "outputs": [],
   "source": [
    "resnet50.trainable = True\n",
    "for layer in resnet50.layers[:39]: #unfreezed the last layer conv_3\n",
    "  layer.trainable = False"
   ],
   "metadata": {
    "collapsed": false,
    "pycharm": {
     "name": "#%%\n"
    }
   }
  },
  {
   "cell_type": "code",
   "execution_count": 29,
   "outputs": [
    {
     "name": "stdout",
     "output_type": "stream",
     "text": [
      "174\n",
      "0 input_1 False\n",
      "1 conv1_pad False\n",
      "2 conv1_conv False\n",
      "3 conv1_bn False\n",
      "4 conv1_relu False\n",
      "5 pool1_pad False\n",
      "6 pool1_pool False\n",
      "7 conv2_block1_1_conv False\n",
      "8 conv2_block1_1_bn False\n",
      "9 conv2_block1_1_relu False\n",
      "10 conv2_block1_2_conv False\n",
      "11 conv2_block1_2_bn False\n",
      "12 conv2_block1_2_relu False\n",
      "13 conv2_block1_0_conv False\n",
      "14 conv2_block1_3_conv False\n",
      "15 conv2_block1_0_bn False\n",
      "16 conv2_block1_3_bn False\n",
      "17 conv2_block1_add False\n",
      "18 conv2_block1_out False\n",
      "19 conv2_block2_1_conv False\n",
      "20 conv2_block2_1_bn False\n",
      "21 conv2_block2_1_relu False\n",
      "22 conv2_block2_2_conv False\n",
      "23 conv2_block2_2_bn False\n",
      "24 conv2_block2_2_relu False\n",
      "25 conv2_block2_3_conv False\n",
      "26 conv2_block2_3_bn False\n",
      "27 conv2_block2_add False\n",
      "28 conv2_block2_out False\n",
      "29 conv2_block3_1_conv False\n",
      "30 conv2_block3_1_bn False\n",
      "31 conv2_block3_1_relu False\n",
      "32 conv2_block3_2_conv False\n",
      "33 conv2_block3_2_bn False\n",
      "34 conv2_block3_2_relu False\n",
      "35 conv2_block3_3_conv False\n",
      "36 conv2_block3_3_bn False\n",
      "37 conv2_block3_add False\n",
      "38 conv2_block3_out False\n",
      "39 conv3_block1_1_conv True\n",
      "40 conv3_block1_1_bn True\n",
      "41 conv3_block1_1_relu True\n",
      "42 conv3_block1_2_conv True\n",
      "43 conv3_block1_2_bn True\n",
      "44 conv3_block1_2_relu True\n",
      "45 conv3_block1_0_conv True\n",
      "46 conv3_block1_3_conv True\n",
      "47 conv3_block1_0_bn True\n",
      "48 conv3_block1_3_bn True\n",
      "49 conv3_block1_add True\n",
      "50 conv3_block1_out True\n",
      "51 conv3_block2_1_conv True\n",
      "52 conv3_block2_1_bn True\n",
      "53 conv3_block2_1_relu True\n",
      "54 conv3_block2_2_conv True\n",
      "55 conv3_block2_2_bn True\n",
      "56 conv3_block2_2_relu True\n",
      "57 conv3_block2_3_conv True\n",
      "58 conv3_block2_3_bn True\n",
      "59 conv3_block2_add True\n",
      "60 conv3_block2_out True\n",
      "61 conv3_block3_1_conv True\n",
      "62 conv3_block3_1_bn True\n",
      "63 conv3_block3_1_relu True\n",
      "64 conv3_block3_2_conv True\n",
      "65 conv3_block3_2_bn True\n",
      "66 conv3_block3_2_relu True\n",
      "67 conv3_block3_3_conv True\n",
      "68 conv3_block3_3_bn True\n",
      "69 conv3_block3_add True\n",
      "70 conv3_block3_out True\n",
      "71 conv3_block4_1_conv True\n",
      "72 conv3_block4_1_bn True\n",
      "73 conv3_block4_1_relu True\n",
      "74 conv3_block4_2_conv True\n",
      "75 conv3_block4_2_bn True\n",
      "76 conv3_block4_2_relu True\n",
      "77 conv3_block4_3_conv True\n",
      "78 conv3_block4_3_bn True\n",
      "79 conv3_block4_add True\n",
      "80 conv3_block4_out True\n",
      "81 conv4_block1_1_conv True\n",
      "82 conv4_block1_1_bn True\n",
      "83 conv4_block1_1_relu True\n",
      "84 conv4_block1_2_conv True\n",
      "85 conv4_block1_2_bn True\n",
      "86 conv4_block1_2_relu True\n",
      "87 conv4_block1_0_conv True\n",
      "88 conv4_block1_3_conv True\n",
      "89 conv4_block1_0_bn True\n",
      "90 conv4_block1_3_bn True\n",
      "91 conv4_block1_add True\n",
      "92 conv4_block1_out True\n",
      "93 conv4_block2_1_conv True\n",
      "94 conv4_block2_1_bn True\n",
      "95 conv4_block2_1_relu True\n",
      "96 conv4_block2_2_conv True\n",
      "97 conv4_block2_2_bn True\n",
      "98 conv4_block2_2_relu True\n",
      "99 conv4_block2_3_conv True\n",
      "100 conv4_block2_3_bn True\n",
      "101 conv4_block2_add True\n",
      "102 conv4_block2_out True\n",
      "103 conv4_block3_1_conv True\n",
      "104 conv4_block3_1_bn True\n",
      "105 conv4_block3_1_relu True\n",
      "106 conv4_block3_2_conv True\n",
      "107 conv4_block3_2_bn True\n",
      "108 conv4_block3_2_relu True\n",
      "109 conv4_block3_3_conv True\n",
      "110 conv4_block3_3_bn True\n",
      "111 conv4_block3_add True\n",
      "112 conv4_block3_out True\n",
      "113 conv4_block4_1_conv True\n",
      "114 conv4_block4_1_bn True\n",
      "115 conv4_block4_1_relu True\n",
      "116 conv4_block4_2_conv True\n",
      "117 conv4_block4_2_bn True\n",
      "118 conv4_block4_2_relu True\n",
      "119 conv4_block4_3_conv True\n",
      "120 conv4_block4_3_bn True\n",
      "121 conv4_block4_add True\n",
      "122 conv4_block4_out True\n",
      "123 conv4_block5_1_conv True\n",
      "124 conv4_block5_1_bn True\n",
      "125 conv4_block5_1_relu True\n",
      "126 conv4_block5_2_conv True\n",
      "127 conv4_block5_2_bn True\n",
      "128 conv4_block5_2_relu True\n",
      "129 conv4_block5_3_conv True\n",
      "130 conv4_block5_3_bn True\n",
      "131 conv4_block5_add True\n",
      "132 conv4_block5_out True\n",
      "133 conv4_block6_1_conv True\n",
      "134 conv4_block6_1_bn True\n",
      "135 conv4_block6_1_relu True\n",
      "136 conv4_block6_2_conv True\n",
      "137 conv4_block6_2_bn True\n",
      "138 conv4_block6_2_relu True\n",
      "139 conv4_block6_3_conv True\n",
      "140 conv4_block6_3_bn True\n",
      "141 conv4_block6_add True\n",
      "142 conv4_block6_out True\n",
      "143 conv5_block1_1_conv True\n",
      "144 conv5_block1_1_bn True\n",
      "145 conv5_block1_1_relu True\n",
      "146 conv5_block1_2_conv True\n",
      "147 conv5_block1_2_bn True\n",
      "148 conv5_block1_2_relu True\n",
      "149 conv5_block1_0_conv True\n",
      "150 conv5_block1_3_conv True\n",
      "151 conv5_block1_0_bn True\n",
      "152 conv5_block1_3_bn True\n",
      "153 conv5_block1_add True\n",
      "154 conv5_block1_out True\n",
      "155 conv5_block2_1_conv True\n",
      "156 conv5_block2_1_bn True\n",
      "157 conv5_block2_1_relu True\n",
      "158 conv5_block2_2_conv True\n",
      "159 conv5_block2_2_bn True\n",
      "160 conv5_block2_2_relu True\n",
      "161 conv5_block2_3_conv True\n",
      "162 conv5_block2_3_bn True\n",
      "163 conv5_block2_add True\n",
      "164 conv5_block2_out True\n",
      "165 conv5_block3_1_conv True\n",
      "166 conv5_block3_1_bn True\n",
      "167 conv5_block3_1_relu True\n",
      "168 conv5_block3_2_conv True\n",
      "169 conv5_block3_2_bn True\n",
      "170 conv5_block3_2_relu True\n",
      "171 conv5_block3_3_conv True\n",
      "172 conv5_block3_3_bn True\n",
      "173 conv5_block3_add True\n",
      "174 conv5_block3_out True\n"
     ]
    }
   ],
   "source": [
    "print(len(model.trainable_variables))\n",
    "\n",
    "for i, layer in enumerate(resnet50.layers) :\n",
    "  print(i, layer.name,layer.trainable)"
   ],
   "metadata": {
    "collapsed": false,
    "pycharm": {
     "name": "#%%\n"
    }
   }
  },
  {
   "cell_type": "code",
   "execution_count": 31,
   "outputs": [
    {
     "name": "stdout",
     "output_type": "stream",
     "text": [
      "Epoch 10/25\n",
      "1184/1184 [==============================] - 599s 504ms/step - loss: 3.4347 - accuracy: 0.1931 - val_loss: 6.8237 - val_accuracy: 0.0147\n",
      "\n",
      "Epoch 10: Learning rate is 0.0100.\n",
      "Epoch 11/25\n",
      "1184/1184 [==============================] - 576s 487ms/step - loss: 3.2766 - accuracy: 0.2208 - val_loss: 6.5604 - val_accuracy: 0.0296\n",
      "\n",
      "Epoch 11: Learning rate is 0.0100.\n",
      "Epoch 12/25\n",
      "1184/1184 [==============================] - 590s 498ms/step - loss: 3.1897 - accuracy: 0.2343 - val_loss: 10.1713 - val_accuracy: 0.0079\n",
      "\n",
      "Epoch 12: Learning rate is 0.0100.\n",
      "Epoch 13/25\n",
      "1184/1184 [==============================] - 589s 498ms/step - loss: 3.1380 - accuracy: 0.2440 - val_loss: 5.9905 - val_accuracy: 0.0147\n",
      "\n",
      "Epoch 13: Learning rate is 0.0010.\n",
      "Epoch 14/25\n",
      "1184/1184 [==============================] - 575s 485ms/step - loss: 3.0102 - accuracy: 0.2695 - val_loss: 3.2747 - val_accuracy: 0.2216\n",
      "\n",
      "Epoch 14: Learning rate is 0.0010.\n",
      "Epoch 15/25\n",
      "1184/1184 [==============================] - 574s 485ms/step - loss: 2.9720 - accuracy: 0.2741 - val_loss: 3.3552 - val_accuracy: 0.2062\n",
      "\n",
      "Epoch 15: Learning rate is 0.0010.\n",
      "Epoch 16/25\n",
      "1184/1184 [==============================] - 576s 487ms/step - loss: 2.9476 - accuracy: 0.2817 - val_loss: 3.5957 - val_accuracy: 0.1787\n",
      "\n",
      "Epoch 16: Learning rate is 0.0001.\n",
      "Epoch 17/25\n",
      "1184/1184 [==============================] - 576s 486ms/step - loss: 2.9291 - accuracy: 0.2837 - val_loss: 2.7303 - val_accuracy: 0.3155\n"
     ]
    },
    {
     "name": "stderr",
     "output_type": "stream",
     "text": [
      "C:\\Users\\liangnic\\anaconda3\\envs\\Food_Classification\\lib\\site-packages\\tensorflow\\python\\keras\\utils\\generic_utils.py:494: CustomMaskWarning: Custom mask layers require a config and must override get_config. When loading, the custom mask layer must be passed to the custom_objects argument.\n",
      "  warnings.warn('Custom mask layers require a config and must override '\n"
     ]
    },
    {
     "name": "stdout",
     "output_type": "stream",
     "text": [
      "\n",
      "Epoch 17: Learning rate is 0.0001.\n",
      "Epoch 18/25\n",
      "1184/1184 [==============================] - 577s 487ms/step - loss: 2.9290 - accuracy: 0.2836 - val_loss: 2.6728 - val_accuracy: 0.3297\n",
      "\n",
      "Epoch 18: Learning rate is 0.0001.\n",
      "Epoch 19/25\n",
      "1184/1184 [==============================] - 577s 487ms/step - loss: 2.9252 - accuracy: 0.2852 - val_loss: 2.6822 - val_accuracy: 0.3273\n",
      "\n",
      "Epoch 19: Learning rate is 0.0001.\n",
      "Epoch 20/25\n",
      "1184/1184 [==============================] - 576s 486ms/step - loss: 2.9194 - accuracy: 0.2873 - val_loss: 2.6553 - val_accuracy: 0.3320\n",
      "\n",
      "Epoch 20: Learning rate is 0.0001.\n",
      "Epoch 21/25\n",
      "1184/1184 [==============================] - 577s 487ms/step - loss: 2.9127 - accuracy: 0.2882 - val_loss: 2.6690 - val_accuracy: 0.3286\n",
      "\n",
      "Epoch 21: Learning rate is 0.0001.\n",
      "Epoch 22/25\n",
      "1184/1184 [==============================] - 578s 488ms/step - loss: 2.9130 - accuracy: 0.2869 - val_loss: 2.6479 - val_accuracy: 0.3326\n",
      "\n",
      "Epoch 22: Learning rate is 0.0000.\n",
      "Epoch 23/25\n",
      "1184/1184 [==============================] - 578s 488ms/step - loss: 2.9111 - accuracy: 0.2860 - val_loss: 2.6498 - val_accuracy: 0.3342\n",
      "\n",
      "Epoch 23: Learning rate is 0.0000.\n",
      "Epoch 24/25\n",
      "1184/1184 [==============================] - 579s 489ms/step - loss: 2.9110 - accuracy: 0.2890 - val_loss: 2.6437 - val_accuracy: 0.3347\n",
      "\n",
      "Epoch 24: Learning rate is 0.0000.\n",
      "Epoch 25/25\n",
      "1184/1184 [==============================] - 578s 488ms/step - loss: 2.9137 - accuracy: 0.2892 - val_loss: 2.6437 - val_accuracy: 0.3364\n",
      "\n",
      "Epoch 25: Learning rate is 0.0000.\n"
     ]
    }
   ],
   "source": [
    "model.compile(optimizer=SGD(learning_rate=0.01, momentum=0.9), loss='categorical_crossentropy', metrics=['accuracy'])\n",
    "history_all = model.fit_generator(train_generator,\n",
    "                    validation_data=validation_generator,\n",
    "                    epochs=EPOCHS,\n",
    "                    initial_epoch=history_conv4.epoch[-1],\n",
    "                    verbose=1,\n",
    "                    callbacks = callbacks_list)"
   ],
   "metadata": {
    "collapsed": false,
    "pycharm": {
     "name": "#%%\n"
    }
   }
  },
  {
   "cell_type": "markdown",
   "source": [
    "### Unfreeze all the layers, recompile with a larger learning rate"
   ],
   "metadata": {
    "collapsed": false,
    "pycharm": {
     "name": "#%% md\n"
    }
   }
  },
  {
   "cell_type": "code",
   "execution_count": 33,
   "outputs": [],
   "source": [
    "model = load_model(PATH)"
   ],
   "metadata": {
    "collapsed": false,
    "pycharm": {
     "name": "#%%\n"
    }
   }
  },
  {
   "cell_type": "code",
   "execution_count": 34,
   "outputs": [
    {
     "name": "stdout",
     "output_type": "stream",
     "text": [
      "Model: \"sequential\"\n",
      "_________________________________________________________________\n",
      "Layer (type)                 Output Shape              Param #   \n",
      "=================================================================\n",
      "resnet50 (Functional)        (None, None, None, 2048)  23587712  \n",
      "_________________________________________________________________\n",
      "global_average_pooling2d (Gl (None, 2048)              0         \n",
      "_________________________________________________________________\n",
      "dense (Dense)                (None, 256)               524544    \n",
      "_________________________________________________________________\n",
      "dropout (Dropout)            (None, 256)               0         \n",
      "_________________________________________________________________\n",
      "batch_normalization (BatchNo (None, 256)               1024      \n",
      "_________________________________________________________________\n",
      "dense_1 (Dense)              (None, 101)               25957     \n",
      "=================================================================\n",
      "Total params: 24,139,237\n",
      "Trainable params: 24,085,605\n",
      "Non-trainable params: 53,632\n",
      "_________________________________________________________________\n"
     ]
    }
   ],
   "source": [
    "model.summary()"
   ],
   "metadata": {
    "collapsed": false,
    "pycharm": {
     "name": "#%%\n"
    }
   }
  },
  {
   "cell_type": "code",
   "execution_count": 14,
   "outputs": [],
   "source": [
    "model.layers[0].trainable = True"
   ],
   "metadata": {
    "collapsed": false,
    "pycharm": {
     "name": "#%%\n"
    }
   }
  },
  {
   "cell_type": "code",
   "execution_count": 35,
   "outputs": [
    {
     "data": {
      "text/plain": "218"
     },
     "execution_count": 35,
     "metadata": {},
     "output_type": "execute_result"
    }
   ],
   "source": [
    "len(model.trainable_variables)"
   ],
   "metadata": {
    "collapsed": false,
    "pycharm": {
     "name": "#%%\n"
    }
   }
  },
  {
   "cell_type": "code",
   "execution_count": 16,
   "outputs": [],
   "source": [
    "EPOCHS += 20"
   ],
   "metadata": {
    "collapsed": false,
    "pycharm": {
     "name": "#%%\n"
    }
   }
  },
  {
   "cell_type": "code",
   "execution_count": 38,
   "outputs": [
    {
     "name": "stderr",
     "output_type": "stream",
     "text": [
      "C:\\Users\\liangnic\\anaconda3\\envs\\Food_Classification\\lib\\site-packages\\tensorflow\\python\\keras\\engine\\training.py:1969: UserWarning: `Model.fit_generator` is deprecated and will be removed in a future version. Please use `Model.fit`, which supports generators.\n",
      "  warnings.warn('`Model.fit_generator` is deprecated and '\n"
     ]
    },
    {
     "name": "stdout",
     "output_type": "stream",
     "text": [
      "Epoch 1/25\n"
     ]
    },
    {
     "ename": "ResourceExhaustedError",
     "evalue": " OOM when allocating tensor with shape[1024] and type float on /job:localhost/replica:0/task:0/device:GPU:0 by allocator GPU_0_bfc\n\t [[node sequential/resnet50/conv4_block5_3_bn/FusedBatchNormV3 (defined at \\AppData\\Local\\Temp\\ipykernel_14536\\1428539651.py:2) ]]\nHint: If you want to see a list of allocated tensors when OOM happens, add report_tensor_allocations_upon_oom to RunOptions for current allocation info. This isn't available when running in Eager mode.\n [Op:__inference_train_function_213077]\n\nFunction call stack:\ntrain_function\n",
     "output_type": "error",
     "traceback": [
      "\u001B[1;31m---------------------------------------------------------------------------\u001B[0m",
      "\u001B[1;31mResourceExhaustedError\u001B[0m                    Traceback (most recent call last)",
      "Cell \u001B[1;32mIn[38], line 2\u001B[0m\n\u001B[0;32m      1\u001B[0m model\u001B[38;5;241m.\u001B[39mcompile(optimizer\u001B[38;5;241m=\u001B[39mSGD(learning_rate\u001B[38;5;241m=\u001B[39m\u001B[38;5;241m0.0001\u001B[39m, momentum\u001B[38;5;241m=\u001B[39m\u001B[38;5;241m0.9\u001B[39m), loss\u001B[38;5;241m=\u001B[39m\u001B[38;5;124m'\u001B[39m\u001B[38;5;124mcategorical_crossentropy\u001B[39m\u001B[38;5;124m'\u001B[39m, metrics\u001B[38;5;241m=\u001B[39m[\u001B[38;5;124m'\u001B[39m\u001B[38;5;124maccuracy\u001B[39m\u001B[38;5;124m'\u001B[39m])\n\u001B[1;32m----> 2\u001B[0m history_all \u001B[38;5;241m=\u001B[39m \u001B[43mmodel\u001B[49m\u001B[38;5;241;43m.\u001B[39;49m\u001B[43mfit_generator\u001B[49m\u001B[43m(\u001B[49m\u001B[43mtrain_generator\u001B[49m\u001B[43m,\u001B[49m\n\u001B[0;32m      3\u001B[0m \u001B[43m                    \u001B[49m\u001B[43mvalidation_data\u001B[49m\u001B[38;5;241;43m=\u001B[39;49m\u001B[43mvalidation_generator\u001B[49m\u001B[43m,\u001B[49m\n\u001B[0;32m      4\u001B[0m \u001B[43m                    \u001B[49m\u001B[43mepochs\u001B[49m\u001B[38;5;241;43m=\u001B[39;49m\u001B[43mEPOCHS\u001B[49m\u001B[43m,\u001B[49m\n\u001B[0;32m      5\u001B[0m \u001B[43m                    \u001B[49m\u001B[43mverbose\u001B[49m\u001B[38;5;241;43m=\u001B[39;49m\u001B[38;5;241;43m1\u001B[39;49m\u001B[43m,\u001B[49m\n\u001B[0;32m      6\u001B[0m \u001B[43m                    \u001B[49m\u001B[43mcallbacks\u001B[49m\u001B[43m \u001B[49m\u001B[38;5;241;43m=\u001B[39;49m\u001B[43m \u001B[49m\u001B[43mcallbacks_list\u001B[49m\u001B[43m)\u001B[49m\n",
      "File \u001B[1;32m~\\anaconda3\\envs\\Food_Classification\\lib\\site-packages\\tensorflow\\python\\keras\\engine\\training.py:1972\u001B[0m, in \u001B[0;36mModel.fit_generator\u001B[1;34m(self, generator, steps_per_epoch, epochs, verbose, callbacks, validation_data, validation_steps, validation_freq, class_weight, max_queue_size, workers, use_multiprocessing, shuffle, initial_epoch)\u001B[0m\n\u001B[0;32m   1963\u001B[0m \u001B[38;5;250m\u001B[39m\u001B[38;5;124;03m\"\"\"Fits the model on data yielded batch-by-batch by a Python generator.\u001B[39;00m\n\u001B[0;32m   1964\u001B[0m \n\u001B[0;32m   1965\u001B[0m \u001B[38;5;124;03mDEPRECATED:\u001B[39;00m\n\u001B[0;32m   1966\u001B[0m \u001B[38;5;124;03m  `Model.fit` now supports generators, so there is no longer any need to use\u001B[39;00m\n\u001B[0;32m   1967\u001B[0m \u001B[38;5;124;03m  this endpoint.\u001B[39;00m\n\u001B[0;32m   1968\u001B[0m \u001B[38;5;124;03m\"\"\"\u001B[39;00m\n\u001B[0;32m   1969\u001B[0m warnings\u001B[38;5;241m.\u001B[39mwarn(\u001B[38;5;124m'\u001B[39m\u001B[38;5;124m`Model.fit_generator` is deprecated and \u001B[39m\u001B[38;5;124m'\u001B[39m\n\u001B[0;32m   1970\u001B[0m               \u001B[38;5;124m'\u001B[39m\u001B[38;5;124mwill be removed in a future version. \u001B[39m\u001B[38;5;124m'\u001B[39m\n\u001B[0;32m   1971\u001B[0m               \u001B[38;5;124m'\u001B[39m\u001B[38;5;124mPlease use `Model.fit`, which supports generators.\u001B[39m\u001B[38;5;124m'\u001B[39m)\n\u001B[1;32m-> 1972\u001B[0m \u001B[38;5;28;01mreturn\u001B[39;00m \u001B[38;5;28;43mself\u001B[39;49m\u001B[38;5;241;43m.\u001B[39;49m\u001B[43mfit\u001B[49m\u001B[43m(\u001B[49m\n\u001B[0;32m   1973\u001B[0m \u001B[43m    \u001B[49m\u001B[43mgenerator\u001B[49m\u001B[43m,\u001B[49m\n\u001B[0;32m   1974\u001B[0m \u001B[43m    \u001B[49m\u001B[43msteps_per_epoch\u001B[49m\u001B[38;5;241;43m=\u001B[39;49m\u001B[43msteps_per_epoch\u001B[49m\u001B[43m,\u001B[49m\n\u001B[0;32m   1975\u001B[0m \u001B[43m    \u001B[49m\u001B[43mepochs\u001B[49m\u001B[38;5;241;43m=\u001B[39;49m\u001B[43mepochs\u001B[49m\u001B[43m,\u001B[49m\n\u001B[0;32m   1976\u001B[0m \u001B[43m    \u001B[49m\u001B[43mverbose\u001B[49m\u001B[38;5;241;43m=\u001B[39;49m\u001B[43mverbose\u001B[49m\u001B[43m,\u001B[49m\n\u001B[0;32m   1977\u001B[0m \u001B[43m    \u001B[49m\u001B[43mcallbacks\u001B[49m\u001B[38;5;241;43m=\u001B[39;49m\u001B[43mcallbacks\u001B[49m\u001B[43m,\u001B[49m\n\u001B[0;32m   1978\u001B[0m \u001B[43m    \u001B[49m\u001B[43mvalidation_data\u001B[49m\u001B[38;5;241;43m=\u001B[39;49m\u001B[43mvalidation_data\u001B[49m\u001B[43m,\u001B[49m\n\u001B[0;32m   1979\u001B[0m \u001B[43m    \u001B[49m\u001B[43mvalidation_steps\u001B[49m\u001B[38;5;241;43m=\u001B[39;49m\u001B[43mvalidation_steps\u001B[49m\u001B[43m,\u001B[49m\n\u001B[0;32m   1980\u001B[0m \u001B[43m    \u001B[49m\u001B[43mvalidation_freq\u001B[49m\u001B[38;5;241;43m=\u001B[39;49m\u001B[43mvalidation_freq\u001B[49m\u001B[43m,\u001B[49m\n\u001B[0;32m   1981\u001B[0m \u001B[43m    \u001B[49m\u001B[43mclass_weight\u001B[49m\u001B[38;5;241;43m=\u001B[39;49m\u001B[43mclass_weight\u001B[49m\u001B[43m,\u001B[49m\n\u001B[0;32m   1982\u001B[0m \u001B[43m    \u001B[49m\u001B[43mmax_queue_size\u001B[49m\u001B[38;5;241;43m=\u001B[39;49m\u001B[43mmax_queue_size\u001B[49m\u001B[43m,\u001B[49m\n\u001B[0;32m   1983\u001B[0m \u001B[43m    \u001B[49m\u001B[43mworkers\u001B[49m\u001B[38;5;241;43m=\u001B[39;49m\u001B[43mworkers\u001B[49m\u001B[43m,\u001B[49m\n\u001B[0;32m   1984\u001B[0m \u001B[43m    \u001B[49m\u001B[43muse_multiprocessing\u001B[49m\u001B[38;5;241;43m=\u001B[39;49m\u001B[43muse_multiprocessing\u001B[49m\u001B[43m,\u001B[49m\n\u001B[0;32m   1985\u001B[0m \u001B[43m    \u001B[49m\u001B[43mshuffle\u001B[49m\u001B[38;5;241;43m=\u001B[39;49m\u001B[43mshuffle\u001B[49m\u001B[43m,\u001B[49m\n\u001B[0;32m   1986\u001B[0m \u001B[43m    \u001B[49m\u001B[43minitial_epoch\u001B[49m\u001B[38;5;241;43m=\u001B[39;49m\u001B[43minitial_epoch\u001B[49m\u001B[43m)\u001B[49m\n",
      "File \u001B[1;32m~\\anaconda3\\envs\\Food_Classification\\lib\\site-packages\\tensorflow\\python\\keras\\engine\\training.py:1193\u001B[0m, in \u001B[0;36mModel.fit\u001B[1;34m(self, x, y, batch_size, epochs, verbose, callbacks, validation_split, validation_data, shuffle, class_weight, sample_weight, initial_epoch, steps_per_epoch, validation_steps, validation_batch_size, validation_freq, max_queue_size, workers, use_multiprocessing)\u001B[0m\n\u001B[0;32m   1186\u001B[0m \u001B[38;5;28;01mwith\u001B[39;00m trace\u001B[38;5;241m.\u001B[39mTrace(\n\u001B[0;32m   1187\u001B[0m     \u001B[38;5;124m'\u001B[39m\u001B[38;5;124mtrain\u001B[39m\u001B[38;5;124m'\u001B[39m,\n\u001B[0;32m   1188\u001B[0m     epoch_num\u001B[38;5;241m=\u001B[39mepoch,\n\u001B[0;32m   1189\u001B[0m     step_num\u001B[38;5;241m=\u001B[39mstep,\n\u001B[0;32m   1190\u001B[0m     batch_size\u001B[38;5;241m=\u001B[39mbatch_size,\n\u001B[0;32m   1191\u001B[0m     _r\u001B[38;5;241m=\u001B[39m\u001B[38;5;241m1\u001B[39m):\n\u001B[0;32m   1192\u001B[0m   callbacks\u001B[38;5;241m.\u001B[39mon_train_batch_begin(step)\n\u001B[1;32m-> 1193\u001B[0m   tmp_logs \u001B[38;5;241m=\u001B[39m \u001B[38;5;28;43mself\u001B[39;49m\u001B[38;5;241;43m.\u001B[39;49m\u001B[43mtrain_function\u001B[49m\u001B[43m(\u001B[49m\u001B[43miterator\u001B[49m\u001B[43m)\u001B[49m\n\u001B[0;32m   1194\u001B[0m   \u001B[38;5;28;01mif\u001B[39;00m data_handler\u001B[38;5;241m.\u001B[39mshould_sync:\n\u001B[0;32m   1195\u001B[0m     context\u001B[38;5;241m.\u001B[39masync_wait()\n",
      "File \u001B[1;32m~\\anaconda3\\envs\\Food_Classification\\lib\\site-packages\\tensorflow\\python\\eager\\def_function.py:885\u001B[0m, in \u001B[0;36mFunction.__call__\u001B[1;34m(self, *args, **kwds)\u001B[0m\n\u001B[0;32m    882\u001B[0m compiler \u001B[38;5;241m=\u001B[39m \u001B[38;5;124m\"\u001B[39m\u001B[38;5;124mxla\u001B[39m\u001B[38;5;124m\"\u001B[39m \u001B[38;5;28;01mif\u001B[39;00m \u001B[38;5;28mself\u001B[39m\u001B[38;5;241m.\u001B[39m_jit_compile \u001B[38;5;28;01melse\u001B[39;00m \u001B[38;5;124m\"\u001B[39m\u001B[38;5;124mnonXla\u001B[39m\u001B[38;5;124m\"\u001B[39m\n\u001B[0;32m    884\u001B[0m \u001B[38;5;28;01mwith\u001B[39;00m OptionalXlaContext(\u001B[38;5;28mself\u001B[39m\u001B[38;5;241m.\u001B[39m_jit_compile):\n\u001B[1;32m--> 885\u001B[0m   result \u001B[38;5;241m=\u001B[39m \u001B[38;5;28mself\u001B[39m\u001B[38;5;241m.\u001B[39m_call(\u001B[38;5;241m*\u001B[39margs, \u001B[38;5;241m*\u001B[39m\u001B[38;5;241m*\u001B[39mkwds)\n\u001B[0;32m    887\u001B[0m new_tracing_count \u001B[38;5;241m=\u001B[39m \u001B[38;5;28mself\u001B[39m\u001B[38;5;241m.\u001B[39mexperimental_get_tracing_count()\n\u001B[0;32m    888\u001B[0m without_tracing \u001B[38;5;241m=\u001B[39m (tracing_count \u001B[38;5;241m==\u001B[39m new_tracing_count)\n",
      "File \u001B[1;32m~\\anaconda3\\envs\\Food_Classification\\lib\\site-packages\\tensorflow\\python\\eager\\def_function.py:950\u001B[0m, in \u001B[0;36mFunction._call\u001B[1;34m(self, *args, **kwds)\u001B[0m\n\u001B[0;32m    946\u001B[0m     \u001B[38;5;28;01mpass\u001B[39;00m  \u001B[38;5;66;03m# Fall through to cond-based initialization.\u001B[39;00m\n\u001B[0;32m    947\u001B[0m   \u001B[38;5;28;01melse\u001B[39;00m:\n\u001B[0;32m    948\u001B[0m     \u001B[38;5;66;03m# Lifting succeeded, so variables are initialized and we can run the\u001B[39;00m\n\u001B[0;32m    949\u001B[0m     \u001B[38;5;66;03m# stateless function.\u001B[39;00m\n\u001B[1;32m--> 950\u001B[0m     \u001B[38;5;28;01mreturn\u001B[39;00m \u001B[38;5;28mself\u001B[39m\u001B[38;5;241m.\u001B[39m_stateless_fn(\u001B[38;5;241m*\u001B[39margs, \u001B[38;5;241m*\u001B[39m\u001B[38;5;241m*\u001B[39mkwds)\n\u001B[0;32m    951\u001B[0m \u001B[38;5;28;01melse\u001B[39;00m:\n\u001B[0;32m    952\u001B[0m   _, _, _, filtered_flat_args \u001B[38;5;241m=\u001B[39m \\\n\u001B[0;32m    953\u001B[0m       \u001B[38;5;28mself\u001B[39m\u001B[38;5;241m.\u001B[39m_stateful_fn\u001B[38;5;241m.\u001B[39m_function_spec\u001B[38;5;241m.\u001B[39mcanonicalize_function_inputs(  \u001B[38;5;66;03m# pylint: disable=protected-access\u001B[39;00m\n\u001B[0;32m    954\u001B[0m           \u001B[38;5;241m*\u001B[39margs, \u001B[38;5;241m*\u001B[39m\u001B[38;5;241m*\u001B[39mkwds)\n",
      "File \u001B[1;32m~\\anaconda3\\envs\\Food_Classification\\lib\\site-packages\\tensorflow\\python\\eager\\function.py:3039\u001B[0m, in \u001B[0;36mFunction.__call__\u001B[1;34m(self, *args, **kwargs)\u001B[0m\n\u001B[0;32m   3036\u001B[0m \u001B[38;5;28;01mwith\u001B[39;00m \u001B[38;5;28mself\u001B[39m\u001B[38;5;241m.\u001B[39m_lock:\n\u001B[0;32m   3037\u001B[0m   (graph_function,\n\u001B[0;32m   3038\u001B[0m    filtered_flat_args) \u001B[38;5;241m=\u001B[39m \u001B[38;5;28mself\u001B[39m\u001B[38;5;241m.\u001B[39m_maybe_define_function(args, kwargs)\n\u001B[1;32m-> 3039\u001B[0m \u001B[38;5;28;01mreturn\u001B[39;00m \u001B[43mgraph_function\u001B[49m\u001B[38;5;241;43m.\u001B[39;49m\u001B[43m_call_flat\u001B[49m\u001B[43m(\u001B[49m\n\u001B[0;32m   3040\u001B[0m \u001B[43m    \u001B[49m\u001B[43mfiltered_flat_args\u001B[49m\u001B[43m,\u001B[49m\u001B[43m \u001B[49m\u001B[43mcaptured_inputs\u001B[49m\u001B[38;5;241;43m=\u001B[39;49m\u001B[43mgraph_function\u001B[49m\u001B[38;5;241;43m.\u001B[39;49m\u001B[43mcaptured_inputs\u001B[49m\u001B[43m)\u001B[49m\n",
      "File \u001B[1;32m~\\anaconda3\\envs\\Food_Classification\\lib\\site-packages\\tensorflow\\python\\eager\\function.py:1963\u001B[0m, in \u001B[0;36mConcreteFunction._call_flat\u001B[1;34m(self, args, captured_inputs, cancellation_manager)\u001B[0m\n\u001B[0;32m   1959\u001B[0m possible_gradient_type \u001B[38;5;241m=\u001B[39m gradients_util\u001B[38;5;241m.\u001B[39mPossibleTapeGradientTypes(args)\n\u001B[0;32m   1960\u001B[0m \u001B[38;5;28;01mif\u001B[39;00m (possible_gradient_type \u001B[38;5;241m==\u001B[39m gradients_util\u001B[38;5;241m.\u001B[39mPOSSIBLE_GRADIENT_TYPES_NONE\n\u001B[0;32m   1961\u001B[0m     \u001B[38;5;129;01mand\u001B[39;00m executing_eagerly):\n\u001B[0;32m   1962\u001B[0m   \u001B[38;5;66;03m# No tape is watching; skip to running the function.\u001B[39;00m\n\u001B[1;32m-> 1963\u001B[0m   \u001B[38;5;28;01mreturn\u001B[39;00m \u001B[38;5;28mself\u001B[39m\u001B[38;5;241m.\u001B[39m_build_call_outputs(\u001B[38;5;28;43mself\u001B[39;49m\u001B[38;5;241;43m.\u001B[39;49m\u001B[43m_inference_function\u001B[49m\u001B[38;5;241;43m.\u001B[39;49m\u001B[43mcall\u001B[49m\u001B[43m(\u001B[49m\n\u001B[0;32m   1964\u001B[0m \u001B[43m      \u001B[49m\u001B[43mctx\u001B[49m\u001B[43m,\u001B[49m\u001B[43m \u001B[49m\u001B[43margs\u001B[49m\u001B[43m,\u001B[49m\u001B[43m \u001B[49m\u001B[43mcancellation_manager\u001B[49m\u001B[38;5;241;43m=\u001B[39;49m\u001B[43mcancellation_manager\u001B[49m\u001B[43m)\u001B[49m)\n\u001B[0;32m   1965\u001B[0m forward_backward \u001B[38;5;241m=\u001B[39m \u001B[38;5;28mself\u001B[39m\u001B[38;5;241m.\u001B[39m_select_forward_and_backward_functions(\n\u001B[0;32m   1966\u001B[0m     args,\n\u001B[0;32m   1967\u001B[0m     possible_gradient_type,\n\u001B[0;32m   1968\u001B[0m     executing_eagerly)\n\u001B[0;32m   1969\u001B[0m forward_function, args_with_tangents \u001B[38;5;241m=\u001B[39m forward_backward\u001B[38;5;241m.\u001B[39mforward()\n",
      "File \u001B[1;32m~\\anaconda3\\envs\\Food_Classification\\lib\\site-packages\\tensorflow\\python\\eager\\function.py:591\u001B[0m, in \u001B[0;36m_EagerDefinedFunction.call\u001B[1;34m(self, ctx, args, cancellation_manager)\u001B[0m\n\u001B[0;32m    589\u001B[0m \u001B[38;5;28;01mwith\u001B[39;00m _InterpolateFunctionError(\u001B[38;5;28mself\u001B[39m):\n\u001B[0;32m    590\u001B[0m   \u001B[38;5;28;01mif\u001B[39;00m cancellation_manager \u001B[38;5;129;01mis\u001B[39;00m \u001B[38;5;28;01mNone\u001B[39;00m:\n\u001B[1;32m--> 591\u001B[0m     outputs \u001B[38;5;241m=\u001B[39m \u001B[43mexecute\u001B[49m\u001B[38;5;241;43m.\u001B[39;49m\u001B[43mexecute\u001B[49m\u001B[43m(\u001B[49m\n\u001B[0;32m    592\u001B[0m \u001B[43m        \u001B[49m\u001B[38;5;28;43mstr\u001B[39;49m\u001B[43m(\u001B[49m\u001B[38;5;28;43mself\u001B[39;49m\u001B[38;5;241;43m.\u001B[39;49m\u001B[43msignature\u001B[49m\u001B[38;5;241;43m.\u001B[39;49m\u001B[43mname\u001B[49m\u001B[43m)\u001B[49m\u001B[43m,\u001B[49m\n\u001B[0;32m    593\u001B[0m \u001B[43m        \u001B[49m\u001B[43mnum_outputs\u001B[49m\u001B[38;5;241;43m=\u001B[39;49m\u001B[38;5;28;43mself\u001B[39;49m\u001B[38;5;241;43m.\u001B[39;49m\u001B[43m_num_outputs\u001B[49m\u001B[43m,\u001B[49m\n\u001B[0;32m    594\u001B[0m \u001B[43m        \u001B[49m\u001B[43minputs\u001B[49m\u001B[38;5;241;43m=\u001B[39;49m\u001B[43margs\u001B[49m\u001B[43m,\u001B[49m\n\u001B[0;32m    595\u001B[0m \u001B[43m        \u001B[49m\u001B[43mattrs\u001B[49m\u001B[38;5;241;43m=\u001B[39;49m\u001B[43mattrs\u001B[49m\u001B[43m,\u001B[49m\n\u001B[0;32m    596\u001B[0m \u001B[43m        \u001B[49m\u001B[43mctx\u001B[49m\u001B[38;5;241;43m=\u001B[39;49m\u001B[43mctx\u001B[49m\u001B[43m)\u001B[49m\n\u001B[0;32m    597\u001B[0m   \u001B[38;5;28;01melse\u001B[39;00m:\n\u001B[0;32m    598\u001B[0m     outputs \u001B[38;5;241m=\u001B[39m execute\u001B[38;5;241m.\u001B[39mexecute_with_cancellation(\n\u001B[0;32m    599\u001B[0m         \u001B[38;5;28mstr\u001B[39m(\u001B[38;5;28mself\u001B[39m\u001B[38;5;241m.\u001B[39msignature\u001B[38;5;241m.\u001B[39mname),\n\u001B[0;32m    600\u001B[0m         num_outputs\u001B[38;5;241m=\u001B[39m\u001B[38;5;28mself\u001B[39m\u001B[38;5;241m.\u001B[39m_num_outputs,\n\u001B[1;32m   (...)\u001B[0m\n\u001B[0;32m    603\u001B[0m         ctx\u001B[38;5;241m=\u001B[39mctx,\n\u001B[0;32m    604\u001B[0m         cancellation_manager\u001B[38;5;241m=\u001B[39mcancellation_manager)\n",
      "File \u001B[1;32m~\\anaconda3\\envs\\Food_Classification\\lib\\site-packages\\tensorflow\\python\\eager\\execute.py:59\u001B[0m, in \u001B[0;36mquick_execute\u001B[1;34m(op_name, num_outputs, inputs, attrs, ctx, name)\u001B[0m\n\u001B[0;32m     57\u001B[0m \u001B[38;5;28;01mtry\u001B[39;00m:\n\u001B[0;32m     58\u001B[0m   ctx\u001B[38;5;241m.\u001B[39mensure_initialized()\n\u001B[1;32m---> 59\u001B[0m   tensors \u001B[38;5;241m=\u001B[39m \u001B[43mpywrap_tfe\u001B[49m\u001B[38;5;241;43m.\u001B[39;49m\u001B[43mTFE_Py_Execute\u001B[49m\u001B[43m(\u001B[49m\u001B[43mctx\u001B[49m\u001B[38;5;241;43m.\u001B[39;49m\u001B[43m_handle\u001B[49m\u001B[43m,\u001B[49m\u001B[43m \u001B[49m\u001B[43mdevice_name\u001B[49m\u001B[43m,\u001B[49m\u001B[43m \u001B[49m\u001B[43mop_name\u001B[49m\u001B[43m,\u001B[49m\n\u001B[0;32m     60\u001B[0m \u001B[43m                                      \u001B[49m\u001B[43minputs\u001B[49m\u001B[43m,\u001B[49m\u001B[43m \u001B[49m\u001B[43mattrs\u001B[49m\u001B[43m,\u001B[49m\u001B[43m \u001B[49m\u001B[43mnum_outputs\u001B[49m\u001B[43m)\u001B[49m\n\u001B[0;32m     61\u001B[0m \u001B[38;5;28;01mexcept\u001B[39;00m core\u001B[38;5;241m.\u001B[39m_NotOkStatusException \u001B[38;5;28;01mas\u001B[39;00m e:\n\u001B[0;32m     62\u001B[0m   \u001B[38;5;28;01mif\u001B[39;00m name \u001B[38;5;129;01mis\u001B[39;00m \u001B[38;5;129;01mnot\u001B[39;00m \u001B[38;5;28;01mNone\u001B[39;00m:\n",
      "\u001B[1;31mResourceExhaustedError\u001B[0m:  OOM when allocating tensor with shape[1024] and type float on /job:localhost/replica:0/task:0/device:GPU:0 by allocator GPU_0_bfc\n\t [[node sequential/resnet50/conv4_block5_3_bn/FusedBatchNormV3 (defined at \\AppData\\Local\\Temp\\ipykernel_14536\\1428539651.py:2) ]]\nHint: If you want to see a list of allocated tensors when OOM happens, add report_tensor_allocations_upon_oom to RunOptions for current allocation info. This isn't available when running in Eager mode.\n [Op:__inference_train_function_213077]\n\nFunction call stack:\ntrain_function\n"
     ]
    }
   ],
   "source": [
    "model.compile(optimizer=SGD(learning_rate=0.0001, momentum=0.9), loss='categorical_crossentropy', metrics=['accuracy'])\n",
    "history_all = model.fit_generator(train_generator,\n",
    "                    validation_data=validation_generator,\n",
    "                    epochs=EPOCHS,\n",
    "                    verbose=1,\n",
    "                    callbacks = callbacks_list)"
   ],
   "metadata": {
    "collapsed": false,
    "pycharm": {
     "name": "#%%\n"
    }
   }
  },
  {
   "cell_type": "code",
   "execution_count": 19,
   "outputs": [
    {
     "data": {
      "text/plain": "<Figure size 1500x800 with 2 Axes>",
      "image/png": "[encoded data removed]"
     },
     "metadata": {},
     "output_type": "display_data"
    }
   ],
   "source": [
    "acc_all = history_all.history['accuracy']\n",
    "val_acc_all = history_all.history['val_accuracy']\n",
    "loss_all = history_all.history['loss']\n",
    "val_loss_all = history_all.history['val_loss']\n",
    "\n",
    "draw_plot(acc_all, val_acc_all, loss_all, val_loss_all)"
   ],
   "metadata": {
    "collapsed": false,
    "pycharm": {
     "name": "#%%\n"
    }
   }
  },
  {
   "cell_type": "markdown",
   "source": [
    "# Performance"
   ],
   "metadata": {
    "collapsed": false,
    "pycharm": {
     "name": "#%% md\n"
    }
   }
  },
  {
   "cell_type": "markdown",
   "source": [],
   "metadata": {
    "collapsed": false,
    "pycharm": {
     "name": "#%% md\n"
    }
   }
  }
 ]
}